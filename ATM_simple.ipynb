{
 "cells": [
  {
   "cell_type": "code",
   "execution_count": 15,
   "id": "a0b8e543-c7a8-4049-a85e-dc7689b64488",
   "metadata": {},
   "outputs": [],
   "source": [
    "class ATM :\n",
    "    def __init__(self,accounts):\n",
    "        self.accounts=accounts\n",
    "\n",
    "    def authenticate(self,acc_num,pin):\n",
    "        account=self.accounts.get(acc_num)\n",
    "        if account == None :\n",
    "            print(\"Given account number doesn't exist\")\n",
    "            return False\n",
    "        elif account[\"pin\"] == pin :\n",
    "            print(\"Authenticated\")\n",
    "            account[\"authenticated\"]=True\n",
    "            return True\n",
    "        else : \n",
    "            print(\"authentication failed\")\n",
    "            account[\"authenticated\"]=False\n",
    "            return False\n",
    "            \n",
    "    def deposit(self,acc_num,amount):\n",
    "        account=self.accounts.get(acc_num)\n",
    "        if account == None :\n",
    "            print(\"Given account number doesn't exist\")\n",
    "            return False\n",
    "        elif account[\"authenticated\"] != True :\n",
    "            print(\"Unauthenticated account. Please login\")\n",
    "        else : \n",
    "            account[\"balance\"] += amount\n",
    "            return True\n",
    "\n",
    "    def withdraw(self,acc_num,amount):\n",
    "        account=self.accounts.get(acc_num)\n",
    "        if account == None :\n",
    "            print(\"Given account number doesn't exist\")\n",
    "            return False\n",
    "        elif account[\"authenticated\"] != True :\n",
    "            print(\"Unauthenticated account. Please login\")\n",
    "        elif account[\"balance\"] < amount :\n",
    "            print(\"Insufficient balance\")\n",
    "            return False\n",
    "        else :\n",
    "            account[\"balance\"] -= amount\n",
    "            return True\n",
    "\n",
    "    def login(self,acc_num,pin):\n",
    "        return self.authenticate(acc_num,pin)\n",
    "        \n",
    "    def logout(self,acc_num) :\n",
    "        account=self.accounts.get(acc_num)\n",
    "        if account == None :\n",
    "            print(\"Given account number doesn't exist\")\n",
    "            return False\n",
    "        else : \n",
    "            account[\"authenticated\"]=False"
   ]
  },
  {
   "cell_type": "code",
   "execution_count": 26,
   "id": "de0558a7-5107-46f7-99b9-648f7100ae5f",
   "metadata": {},
   "outputs": [
    {
     "name": "stdout",
     "output_type": "stream",
     "text": [
      "in main\n"
     ]
    },
    {
     "name": "stdin",
     "output_type": "stream",
     "text": [
      "Enter Account number 1234\n",
      "Enter pin 2345\n"
     ]
    },
    {
     "name": "stdout",
     "output_type": "stream",
     "text": [
      "Authenticated\n",
      "True\n",
      "True\n",
      "Insufficient balance\n",
      "False\n",
      "Unauthenticated account. Please login\n"
     ]
    }
   ],
   "source": [
    "def main() :\n",
    "    print(\"in main\")\n",
    "    atm=ATM(accounts)\n",
    "    acc_num=int(input(\"Enter Account number\"))\n",
    "    pin=int(input(\"Enter pin\"))\n",
    "    if atm.login(acc_num,pin):\n",
    "        print(atm.deposit(acc_num,1000))\n",
    "        print(atm.withdraw(acc_num,500))\n",
    "        print(atm.withdraw(acc_num,5000))\n",
    "        atm.logout(acc_num)\n",
    "        atm.deposit(acc_num,1000)\n",
    "\n",
    "accounts={1234:{\"pin\":2345,\"balance\":4000},890:{\"pin\":5678,\"balance\":10000}}\n",
    "main()\n"
   ]
  },
  {
   "cell_type": "code",
   "execution_count": null,
   "id": "c566f3b8-a615-4d25-9c26-947d3ee9a900",
   "metadata": {},
   "outputs": [],
   "source": []
  }
 ],
 "metadata": {
  "kernelspec": {
   "display_name": "Python 3 (ipykernel)",
   "language": "python",
   "name": "python3"
  },
  "language_info": {
   "codemirror_mode": {
    "name": "ipython",
    "version": 3
   },
   "file_extension": ".py",
   "mimetype": "text/x-python",
   "name": "python",
   "nbconvert_exporter": "python",
   "pygments_lexer": "ipython3",
   "version": "3.12.4"
  }
 },
 "nbformat": 4,
 "nbformat_minor": 5
}
