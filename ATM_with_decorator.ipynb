{
 "cells": [
  {
   "cell_type": "code",
   "execution_count": 110,
   "id": "6ca27e04-ca46-4906-abb6-c34d26f61a57",
   "metadata": {},
   "outputs": [],
   "source": [
    "## Decorator definition \n",
    "\n",
    "def pre_method_call(func):\n",
    "    def wrapper(self,*args,**kwargs):\n",
    "        print(f\"------------pre_method_call calling method : {func.__name__} with args \",args)\n",
    "        acc_num=args[0]\n",
    "        account=self.accounts.get(acc_num)\n",
    "        print(\"Found account \",account)\n",
    "        if account == None :\n",
    "            print(\"Given account number \",acc_num,\"doesn't exist\")\n",
    "            return False\n",
    "        elif account[\"authenticated\"] != True :\n",
    "            print(\"Unauthenticated account. \",acc_num,\" Please login\")\n",
    "        else :\n",
    "            return func(self,*args,**kwargs)\n",
    "    return wrapper"
   ]
  },
  {
   "cell_type": "code",
   "execution_count": 112,
   "id": "2ec58f6c-c5bc-4197-a995-267c8b90a5af",
   "metadata": {},
   "outputs": [],
   "source": [
    "class ATM :\n",
    "    def __init__(self,accounts):\n",
    "        print(\"------------init\")\n",
    "        self.accounts=accounts\n",
    "        for acc_num, account in self.accounts.items():\n",
    "            account[\"authenticated\"] = False\n",
    "            \n",
    "    def authenticate(self,acc_num,pin):\n",
    "        print(\"------------authenticate\")\n",
    "        account=self.accounts.get(acc_num)\n",
    "        if account == None :\n",
    "            print(\"Given account number \",acc_num,\" doesn't exist\")\n",
    "            return False\n",
    "        elif account[\"pin\"] == pin :\n",
    "            print(\"Authenticated\")\n",
    "            account[\"authenticated\"]=True\n",
    "            return True\n",
    "        else : \n",
    "            print(\"authentication failed\")\n",
    "            account[\"authenticated\"]=False\n",
    "            return False\n",
    "\n",
    "    @pre_method_call\n",
    "    def deposit(self,acc_num,amount):\n",
    "        print(\"------------deposit\")\n",
    "        account=self.accounts.get(acc_num)\n",
    "        account[\"balance\"] += amount\n",
    "        return True\n",
    "    @pre_method_call\n",
    "    def withdraw(self,acc_num,amount):\n",
    "        print(\"----------withdraw\")\n",
    "        account=self.accounts.get(acc_num)\n",
    "        if account[\"balance\"] < amount :\n",
    "            print(\"Insufficient balance\")\n",
    "            return False\n",
    "        else :\n",
    "            account[\"balance\"] -= amount\n",
    "            return True\n",
    "\n",
    "    def login(self,acc_num,pin):\n",
    "        return self.authenticate(acc_num,pin)\n",
    "        \n",
    "    def logout(self,acc_num) :\n",
    "        print(\"-------------logout\")\n",
    "        account=self.accounts.get(acc_num)\n",
    "        if account == None :\n",
    "            print(\"Given account number doesn't exist\")\n",
    "            return False\n",
    "        else : \n",
    "            account[\"authenticated\"]=False"
   ]
  },
  {
   "cell_type": "code",
   "execution_count": 116,
   "id": "5861706d-4e40-4810-ab0c-41221fa9d658",
   "metadata": {},
   "outputs": [
    {
     "name": "stdout",
     "output_type": "stream",
     "text": [
      "in main\n",
      "------------init\n"
     ]
    },
    {
     "name": "stdin",
     "output_type": "stream",
     "text": [
      "Enter Account number 1234\n",
      "Enter pin 2345\n"
     ]
    },
    {
     "name": "stdout",
     "output_type": "stream",
     "text": [
      "*******************\n",
      "------------authenticate\n",
      "Authenticated\n",
      "*******************\n",
      "------------pre_method_call calling method : deposit with args  (1234, 1000)\n",
      "Found account  {'pin': 2345, 'balance': 4000, 'authenticated': True}\n",
      "------------deposit\n",
      "True\n",
      "*******************\n",
      "------------pre_method_call calling method : withdraw with args  (1234, 500)\n",
      "Found account  {'pin': 2345, 'balance': 5000, 'authenticated': True}\n",
      "----------withdraw\n",
      "True\n",
      "*******************\n",
      "------------pre_method_call calling method : withdraw with args  (1234, 5000)\n",
      "Found account  {'pin': 2345, 'balance': 4500, 'authenticated': True}\n",
      "----------withdraw\n",
      "Insufficient balance\n",
      "False\n",
      "*******************\n",
      "-------------logout\n",
      "*******************\n",
      "------------pre_method_call calling method : deposit with args  (1234, 1000)\n",
      "Found account  {'pin': 2345, 'balance': 4500, 'authenticated': False}\n",
      "Unauthenticated account.  1234  Please login\n",
      "*******************\n"
     ]
    }
   ],
   "source": [
    "def main() :\n",
    "    print(\"in main\")\n",
    "    atm=ATM(accounts)\n",
    "    acc_num=int(input(\"Enter Account number\"))\n",
    "    pin=int(input(\"Enter pin\"))\n",
    "    print(\"*******************\")\n",
    "    atm.login(acc_num,pin)\n",
    "    print(\"*******************\")\n",
    "    print(atm.deposit(acc_num,1000))\n",
    "    print(\"*******************\")\n",
    "    print(atm.withdraw(acc_num,500))\n",
    "    print(\"*******************\")\n",
    "    print(atm.withdraw(acc_num,5000))\n",
    "    print(\"*******************\")\n",
    "    atm.logout(acc_num)\n",
    "    print(\"*******************\")\n",
    "    atm.deposit(acc_num,1000)\n",
    "    print(\"*******************\")\n",
    "    \n",
    "accounts={1234:{\"pin\":2345,\"balance\":4000},890:{\"pin\":5678,\"balance\":10000}}\n",
    "main()\n"
   ]
  },
  {
   "cell_type": "code",
   "execution_count": null,
   "id": "d0564306-a2df-4993-a097-b11f4fbd5e9b",
   "metadata": {},
   "outputs": [],
   "source": []
  }
 ],
 "metadata": {
  "kernelspec": {
   "display_name": "Python 3 (ipykernel)",
   "language": "python",
   "name": "python3"
  },
  "language_info": {
   "codemirror_mode": {
    "name": "ipython",
    "version": 3
   },
   "file_extension": ".py",
   "mimetype": "text/x-python",
   "name": "python",
   "nbconvert_exporter": "python",
   "pygments_lexer": "ipython3",
   "version": "3.12.4"
  }
 },
 "nbformat": 4,
 "nbformat_minor": 5
}
